{
  "nbformat": 4,
  "nbformat_minor": 0,
  "metadata": {
    "colab": {
      "name": "Number_line_Jumps.ipynb",
      "provenance": []
    },
    "kernelspec": {
      "name": "python3",
      "display_name": "Python 3"
    },
    "language_info": {
      "name": "python"
    }
  },
  "cells": [
    {
      "cell_type": "markdown",
      "metadata": {
        "id": "2qMFx3xQeknO"
      },
      "source": [
        "Number line Jumps"
      ]
    },
    {
      "cell_type": "code",
      "metadata": {
        "id": "MIhnKXgIfNjz"
      },
      "source": [
        "import math\n",
        "import os\n",
        "import random\n",
        "import re\n",
        "import sys\n",
        "\n",
        "# Complete the kangaroo function below.\n",
        "def kangaroo(x1, v1, x2, v2):\n",
        "    if v1>v2:\n",
        "        while x1<x2:\n",
        "            x1+=v1\n",
        "            x2+=v2\n",
        "    return \"YES\" if x1==x2 else \"NO\"\n",
        "\n",
        "\n",
        "    \n",
        "if __name__ == '__main__':\n",
        "    fptr = open(os.environ['OUTPUT_PATH'], 'w')\n",
        "\n",
        "    x1V1X2V2 = input().split()\n",
        "\n",
        "    x1 = int(x1V1X2V2[0])\n",
        "\n",
        "    v1 = int(x1V1X2V2[1])\n",
        "\n",
        "    x2 = int(x1V1X2V2[2])\n",
        "\n",
        "    v2 = int(x1V1X2V2[3])\n",
        "\n",
        "    result = kangaroo(x1, v1, x2, v2)\n",
        "\n",
        "    fptr.write(result)\n",
        "    \n",
        "    fptr.close()\n"
      ],
      "execution_count": null,
      "outputs": []
    }
  ]
}