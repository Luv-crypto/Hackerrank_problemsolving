{
  "nbformat": 4,
  "nbformat_minor": 0,
  "metadata": {
    "colab": {
      "name": "Sales_by_match.ipynb",
      "provenance": []
    },
    "kernelspec": {
      "name": "python3",
      "display_name": "Python 3"
    },
    "language_info": {
      "name": "python"
    }
  },
  "cells": [
    {
      "cell_type": "markdown",
      "metadata": {
        "id": "2qMFx3xQeknO"
      },
      "source": [
        "Sales by match"
      ]
    },
    {
      "cell_type": "code",
      "metadata": {
        "id": "MIhnKXgIfNjz"
      },
      "source": [
        "import math\n",
        "import os\n",
        "import random\n",
        "import re\n",
        "import sys\n",
        "\n",
        "# Complete the sockMerchant function below.\n",
        "def sockMerchant(n, ar):\n",
        "    f = 0\n",
        "    a = ar.sort()\n",
        "    v = set(ar)\n",
        "    for x in v:\n",
        "        w = 0\n",
        "        q = 0\n",
        "        for y in ar:\n",
        "            if x == y:\n",
        "                w += 1\n",
        "        q = w // 2\n",
        "        f = f + q\n",
        "\n",
        "    print(f)\n",
        "    return f\n",
        "\n",
        "if __name__ == '__main__':\n",
        "    fptr = open(os.environ['OUTPUT_PATH'], 'w')\n",
        "\n",
        "    n = int(input())\n",
        "\n",
        "    ar = list(map(int, input().rstrip().split()))\n",
        "\n",
        "    result = sockMerchant(n, ar)\n",
        "\n",
        "    fptr.write(str(result) + '\\n')\n",
        "\n",
        "    fptr.close()\n"
      ],
      "execution_count": null,
      "outputs": []
    }
  ]
}