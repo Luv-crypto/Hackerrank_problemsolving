{
  "nbformat": 4,
  "nbformat_minor": 0,
  "metadata": {
    "colab": {
      "name": "Breaking_the_records.ipynb",
      "provenance": []
    },
    "kernelspec": {
      "name": "python3",
      "display_name": "Python 3"
    },
    "language_info": {
      "name": "python"
    }
  },
  "cells": [
    {
      "cell_type": "markdown",
      "metadata": {
        "id": "2qMFx3xQeknO"
      },
      "source": [
        "Breaking the Records"
      ]
    },
    {
      "cell_type": "code",
      "metadata": {
        "id": "MIhnKXgIfNjz"
      },
      "source": [
        "import math\n",
        "import os\n",
        "import random\n",
        "import re\n",
        "import sys\n",
        "\n",
        "# Complete the breakingRecords function below.\n",
        "def breakingRecords(scores):\n",
        "    min = scores[0]\n",
        "    max = scores[0]\n",
        "    n = 0\n",
        "    m = 0\n",
        "    for x in scores:\n",
        "        if x < min:\n",
        "            m = m + 1\n",
        "            min = x\n",
        "        if x > max:\n",
        "            n = n + 1\n",
        "            max = x\n",
        "    print(n, m)\n",
        "    return (n, m)\n",
        "\n",
        "if __name__ == '__main__':\n",
        "    fptr = open(os.environ['OUTPUT_PATH'], 'w')\n",
        "\n",
        "    n = int(input())\n",
        "\n",
        "    scores = list(map(int, input().rstrip().split()))\n",
        "\n",
        "    result = breakingRecords(scores)\n",
        "\n",
        "    fptr.write(' '.join(map(str, result)))\n",
        "    fptr.write('\\n')\n",
        "\n",
        "    fptr.close()\n"
      ],
      "execution_count": null,
      "outputs": []
    }
  ]
}