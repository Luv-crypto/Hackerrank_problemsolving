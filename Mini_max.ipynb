{
  "nbformat": 4,
  "nbformat_minor": 0,
  "metadata": {
    "colab": {
      "name": "Mini_max.ipynb",
      "provenance": []
    },
    "kernelspec": {
      "name": "python3",
      "display_name": "Python 3"
    },
    "language_info": {
      "name": "python"
    }
  },
  "cells": [
    {
      "cell_type": "markdown",
      "metadata": {
        "id": "2qMFx3xQeknO"
      },
      "source": [
        "Mini max sum"
      ]
    },
    {
      "cell_type": "code",
      "metadata": {
        "id": "MIhnKXgIfNjz"
      },
      "source": [
        "import math\n",
        "import os\n",
        "import random\n",
        "import re\n",
        "import sys\n",
        "\n",
        "# Complete the miniMaxSum function below.\n",
        "def miniMaxSum(arr):\n",
        "    listmin = 0\n",
        "    listmax = 0\n",
        "    arr.sort()\n",
        "    for i in range(4):\n",
        "        listmin += arr[i]\n",
        "    arr.sort(reverse=True)\n",
        "    for j in range(4):\n",
        "        listmax += arr[j]\n",
        "\n",
        "    print(listmin, listmax)\n",
        "    return listmin, listmax\n",
        "\n",
        "if __name__ == '__main__':\n",
        "    arr = list(map(int, input().rstrip().split()))\n",
        "\n",
        "    miniMaxSum(arr)\n"
      ],
      "execution_count": null,
      "outputs": []
    }
  ]
}