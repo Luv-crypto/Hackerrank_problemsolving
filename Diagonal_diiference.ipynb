{
  "nbformat": 4,
  "nbformat_minor": 0,
  "metadata": {
    "colab": {
      "name": "Diagonal_diiference.ipynb",
      "provenance": []
    },
    "kernelspec": {
      "name": "python3",
      "display_name": "Python 3"
    },
    "language_info": {
      "name": "python"
    }
  },
  "cells": [
    {
      "cell_type": "markdown",
      "metadata": {
        "id": "2qMFx3xQeknO"
      },
      "source": [
        "Diagonal Difference"
      ]
    },
    {
      "cell_type": "code",
      "metadata": {
        "id": "MIhnKXgIfNjz"
      },
      "source": [
        "import math\n",
        "import os\n",
        "import random\n",
        "import re\n",
        "import sys\n",
        "import itertools\n",
        "#\n",
        "# Complete the 'diagonalDifference' function below.\n",
        "#\n",
        "# The function is expected to return an INTEGER.\n",
        "# The function accepts 2D_INTEGER_ARRAY arr as parameter.\n",
        "#\n",
        "\n",
        "def diagonalDifference(arr):\n",
        "    # Write your code here\n",
        "    primarysum = []\n",
        "    secondarysum = []\n",
        "    z = len(arr)\n",
        "    for i in range(z):\n",
        "        x = arr[i][i]\n",
        "        y = arr[i][z - i - 1]\n",
        "        primarysum.append(x)\n",
        "        secondarysum.append(y)\n",
        "        sum1 = 0\n",
        "        sum2 = 0\n",
        "        for i, j in zip(primarysum, secondarysum):\n",
        "            sum1 += i\n",
        "            sum2 += j\n",
        "            diff = (sum1) - (sum2)\n",
        "            if diff < 0:\n",
        "                diff *= -1\n",
        "            else:\n",
        "                pass\n",
        "    print(diff)\n",
        "    return diff\n",
        "    \n",
        "\n",
        "if __name__ == '__main__':\n",
        "    fptr = open(os.environ['OUTPUT_PATH'], 'w')\n",
        "\n",
        "    n = int(input().strip())\n",
        "\n",
        "    arr = []\n",
        "\n",
        "    for _ in range(n):\n",
        "        arr.append(list(map(int, input().rstrip().split())))\n",
        "\n",
        "    result = diagonalDifference(arr)\n",
        "\n",
        "    fptr.write(str(result) + '\\n')\n",
        "\n",
        "    fptr.close()\n",
        "\n",
        "\n",
        "\n",
        "\n"
      ],
      "execution_count": null,
      "outputs": []
    }
  ]
}