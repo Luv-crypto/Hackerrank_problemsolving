{
  "nbformat": 4,
  "nbformat_minor": 0,
  "metadata": {
    "colab": {
      "name": "plus_minus.ipynb",
      "provenance": []
    },
    "kernelspec": {
      "name": "python3",
      "display_name": "Python 3"
    },
    "language_info": {
      "name": "python"
    }
  },
  "cells": [
    {
      "cell_type": "markdown",
      "metadata": {
        "id": "2qMFx3xQeknO"
      },
      "source": [
        "Plus minus"
      ]
    },
    {
      "cell_type": "code",
      "metadata": {
        "id": "MIhnKXgIfNjz"
      },
      "source": [
        "import math\n",
        "import os\n",
        "import random\n",
        "import re\n",
        "import sys\n",
        "\n",
        "# Complete the plusMinus function below.\n",
        "def plusMinus(arr):\n",
        "    a = 0\n",
        "    b = 0\n",
        "    c = 0\n",
        "    x = 0\n",
        "    y = 0\n",
        "    z = 0\n",
        "    n = len(arr)\n",
        "    for i in arr:\n",
        "        if i > 0:\n",
        "            x += 1\n",
        "        if i < 0:\n",
        "            y += 1\n",
        "        if i == 0:\n",
        "            z += 1\n",
        "    a = float(x / n)\n",
        "    b = float(y / n)\n",
        "    c = float(z / n)\n",
        "    print(\"%.6f\" % a)\n",
        "    print(\"%.6f\" % b)\n",
        "    print(\"%.6f\" % c)\n",
        "\n",
        "    return (a, b, c)\n",
        "\n",
        "\n",
        "\n",
        "if __name__ == '__main__':\n",
        "    n = int(input())\n",
        "\n",
        "    arr = list(map(int, input().rstrip().split()))\n",
        "\n",
        "    plusMinus(arr)\n",
        "\n",
        "\n"
      ],
      "execution_count": null,
      "outputs": []
    }
  ]
}