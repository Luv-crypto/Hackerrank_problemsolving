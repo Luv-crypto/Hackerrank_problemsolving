{
  "nbformat": 4,
  "nbformat_minor": 0,
  "metadata": {
    "colab": {
      "name": "Subarray_Divison.ipynb",
      "provenance": []
    },
    "kernelspec": {
      "name": "python3",
      "display_name": "Python 3"
    },
    "language_info": {
      "name": "python"
    }
  },
  "cells": [
    {
      "cell_type": "markdown",
      "metadata": {
        "id": "2qMFx3xQeknO"
      },
      "source": [
        "Subarray Divison"
      ]
    },
    {
      "cell_type": "code",
      "metadata": {
        "id": "MIhnKXgIfNjz"
      },
      "source": [
        "import math\n",
        "import os\n",
        "import random\n",
        "import re\n",
        "import sys\n",
        "\n",
        "# Complete the birthday function below.\n",
        "def birthday(s, d, m):\n",
        "    x=0\n",
        "    \n",
        "    n=len(s)\n",
        "    while n>=m:\n",
        "        sum=0\n",
        "        for i in range(m):\n",
        "            z= s[i]\n",
        "            sum = sum + z\n",
        "        if sum == d:\n",
        "            x=x+1\n",
        "        s.remove(s[0])    \n",
        "        n=n-1\n",
        "        \n",
        "        \n",
        "    print(x)\n",
        "    return x\n",
        "\n",
        "if __name__ == '__main__':\n",
        "    fptr = open(os.environ['OUTPUT_PATH'], 'w')\n",
        "\n",
        "    n = int(input().strip())\n",
        "\n",
        "    s = list(map(int, input().rstrip().split()))\n",
        "\n",
        "    dm = input().rstrip().split()\n",
        "\n",
        "    d = int(dm[0])\n",
        "\n",
        "    m = int(dm[1])\n",
        "\n",
        "    result = birthday(s, d, m)\n",
        "\n",
        "    fptr.write(str(result) + '\\n')\n",
        "\n",
        "    fptr.close()\n"
      ],
      "execution_count": null,
      "outputs": []
    }
  ]
}