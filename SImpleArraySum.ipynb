{
  "nbformat": 4,
  "nbformat_minor": 0,
  "metadata": {
    "colab": {
      "name": "SImpleArraySum.ipynb",
      "provenance": []
    },
    "kernelspec": {
      "name": "python3",
      "display_name": "Python 3"
    },
    "language_info": {
      "name": "python"
    }
  },
  "cells": [
    {
      "cell_type": "markdown",
      "metadata": {
        "id": "2qMFx3xQeknO"
      },
      "source": [
        "SimpleArraySum"
      ]
    },
    {
      "cell_type": "code",
      "metadata": {
        "id": "MIhnKXgIfNjz"
      },
      "source": [
        "\n",
        "import os\n",
        "import sys\n",
        "\n",
        "#\n",
        "# Complete the simpleArraySum function below.\n",
        "#\n",
        "def simpleArraySum(ar):\n",
        "    #\n",
        "    # Write your code here.\n",
        "    sum = 0\n",
        "    for i in ar:\n",
        "        sum+= i\n",
        "    print(sum)\n",
        "    return sum\n",
        "    \n",
        "if __name__ == '__main__':\n",
        "    fptr = open(os.environ['OUTPUT_PATH'], 'w')\n",
        "\n",
        "    ar_count = int(input())\n",
        "\n",
        "    ar = list(map(int, input().rstrip().split()))\n",
        "\n",
        "    result = simpleArraySum(ar)\n",
        "\n",
        "    fptr.write(str(result) + '\\n')\n",
        "\n",
        "    fptr.close()\n",
        "\n",
        "\n"
      ],
      "execution_count": null,
      "outputs": []
    }
  ]
}