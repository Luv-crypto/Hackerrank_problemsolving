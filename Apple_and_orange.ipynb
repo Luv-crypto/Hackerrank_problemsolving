{
  "nbformat": 4,
  "nbformat_minor": 0,
  "metadata": {
    "colab": {
      "name": "Apple_and_orange.ipynb",
      "provenance": []
    },
    "kernelspec": {
      "name": "python3",
      "display_name": "Python 3"
    },
    "language_info": {
      "name": "python"
    }
  },
  "cells": [
    {
      "cell_type": "markdown",
      "metadata": {
        "id": "2qMFx3xQeknO"
      },
      "source": [
        "Apple and orange"
      ]
    },
    {
      "cell_type": "code",
      "metadata": {
        "id": "MIhnKXgIfNjz"
      },
      "source": [
        "import math\n",
        "import os\n",
        "import random\n",
        "import re\n",
        "import sys\n",
        "\n",
        "# Complete the countApplesAndOranges function below.\n",
        "def countApplesAndOranges(s, t, a, b, apples, oranges):\n",
        "    m = 0\n",
        "    n = 0\n",
        "\n",
        "    for i in apples:\n",
        "        if a + i  >=s and a + i <= t:\n",
        "            m=m+ 1\n",
        "        \n",
        "        \n",
        "    for j in oranges:\n",
        "        if b+j >=s and b+j <=t:\n",
        "            n=n+1\n",
        "    print(m)\n",
        "    print(n)\n",
        "    return  (m,n)\n",
        "\n",
        "if __name__ == '__main__':\n",
        "    st = input().split()\n",
        "\n",
        "    s = int(st[0])\n",
        "\n",
        "    t = int(st[1])\n",
        "\n",
        "    ab = input().split()\n",
        "\n",
        "    a = int(ab[0])\n",
        "\n",
        "    b = int(ab[1])\n",
        "\n",
        "    mn = input().split()\n",
        "\n",
        "    m = int(mn[0])\n",
        "\n",
        "    n = int(mn[1])\n",
        "\n",
        "    apples = list(map(int, input().rstrip().split()))\n",
        "\n",
        "    oranges = list(map(int, input().rstrip().split()))\n",
        "\n",
        "    countApplesAndOranges(s, t, a, b, apples, oranges)\n"
      ],
      "execution_count": null,
      "outputs": []
    }
  ]
}