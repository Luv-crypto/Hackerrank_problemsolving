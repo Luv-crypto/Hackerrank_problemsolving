{
  "nbformat": 4,
  "nbformat_minor": 0,
  "metadata": {
    "colab": {
      "name": "Compare_the_triplets.ipynb",
      "provenance": []
    },
    "kernelspec": {
      "name": "python3",
      "display_name": "Python 3"
    },
    "language_info": {
      "name": "python"
    }
  },
  "cells": [
    {
      "cell_type": "markdown",
      "metadata": {
        "id": "2qMFx3xQeknO"
      },
      "source": [
        "Compare the triplets"
      ]
    },
    {
      "cell_type": "code",
      "metadata": {
        "id": "MIhnKXgIfNjz"
      },
      "source": [
        "\n",
        "import math\n",
        "import os\n",
        "import random\n",
        "import re\n",
        "import sys\n",
        "import itertools\n",
        "# Complete the compareTriplets function below.\n",
        "def compareTriplets(a, b):\n",
        "    apoints = 0\n",
        "    bpoints = 0\n",
        "    for (i, j) in zip(a, b):\n",
        "        if i > j:\n",
        "            apoints += 1\n",
        "        elif i < j:\n",
        "            bpoints += 1\n",
        "    print(apoints, bpoints)\n",
        "    return (apoints, bpoints)\n",
        "\n",
        "if __name__ == '__main__':\n",
        "    fptr = open(os.environ['OUTPUT_PATH'], 'w')\n",
        "\n",
        "    a = list(map(int, input().rstrip().split()))\n",
        "\n",
        "    b = list(map(int, input().rstrip().split()))\n",
        "\n",
        "    result = compareTriplets(a, b)\n",
        "\n",
        "    fptr.write(' '.join(map(str, result)))\n",
        "    fptr.write('\\n')\n",
        "\n",
        "    fptr.close()\n",
        "\n",
        "\n",
        "\n"
      ],
      "execution_count": null,
      "outputs": []
    }
  ]
}