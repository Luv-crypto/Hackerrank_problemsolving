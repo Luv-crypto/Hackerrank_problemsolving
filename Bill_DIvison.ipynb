{
  "nbformat": 4,
  "nbformat_minor": 0,
  "metadata": {
    "colab": {
      "name": "Bill_DIvison.ipynb",
      "provenance": []
    },
    "kernelspec": {
      "name": "python3",
      "display_name": "Python 3"
    },
    "language_info": {
      "name": "python"
    }
  },
  "cells": [
    {
      "cell_type": "markdown",
      "metadata": {
        "id": "2qMFx3xQeknO"
      },
      "source": [
        "Bill Divison"
      ]
    },
    {
      "cell_type": "code",
      "metadata": {
        "id": "MIhnKXgIfNjz"
      },
      "source": [
        "import math\n",
        "import os\n",
        "import random\n",
        "import re\n",
        "import sys\n",
        "\n",
        "# Complete the bonAppetit function below.\n",
        "def bonAppetit(bill, k, b):\n",
        "    sum1 = 0\n",
        "    d = \"Bon Appetit\"\n",
        "    bill.pop(k)\n",
        "    for i in bill:\n",
        "        sum1 += i\n",
        "    Total = int(sum1 / 2)\n",
        "\n",
        "    if Total == b:\n",
        "        print(d)\n",
        "    if Total != b:\n",
        "        a = b - Total\n",
        "        print(a)\n",
        "\n",
        "        return a\n",
        "\n",
        "if __name__ == '__main__':\n",
        "    nk = input().rstrip().split()\n",
        "\n",
        "    n = int(nk[0])\n",
        "\n",
        "    k = int(nk[1])\n",
        "\n",
        "    bill = list(map(int, input().rstrip().split()))\n",
        "\n",
        "    b = int(input().strip())\n",
        "\n",
        "    bonAppetit(bill, k, b)\n"
      ],
      "execution_count": null,
      "outputs": []
    }
  ]
}