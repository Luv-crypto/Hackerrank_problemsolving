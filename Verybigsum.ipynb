{
  "nbformat": 4,
  "nbformat_minor": 0,
  "metadata": {
    "colab": {
      "name": "Verybigsum.ipynb",
      "provenance": []
    },
    "kernelspec": {
      "name": "python3",
      "display_name": "Python 3"
    },
    "language_info": {
      "name": "python"
    }
  },
  "cells": [
    {
      "cell_type": "markdown",
      "metadata": {
        "id": "2qMFx3xQeknO"
      },
      "source": [
        "A very big sum"
      ]
    },
    {
      "cell_type": "code",
      "metadata": {
        "id": "MIhnKXgIfNjz"
      },
      "source": [
        "import math\n",
        "import os\n",
        "import random\n",
        "import re\n",
        "import sys\n",
        "\n",
        "# Complete the aVeryBigSum function below.\n",
        "def aVeryBigSum(ar):\n",
        "    sum = 0\n",
        "    for i in ar:\n",
        "        sum += i\n",
        "    print(sum)\n",
        "    return sum\n",
        "\n",
        "\n",
        "if __name__ == '__main__':\n",
        "    fptr = open(os.environ['OUTPUT_PATH'], 'w')\n",
        "\n",
        "    ar_count = int(input())\n",
        "\n",
        "    ar = list(map(int, input().rstrip().split()))\n",
        "\n",
        "    result = aVeryBigSum(ar)\n",
        "\n",
        "    fptr.write(str(result) + '\\n')\n",
        "\n",
        "    fptr.close()\n",
        "\n",
        "\n",
        "\n"
      ],
      "execution_count": null,
      "outputs": []
    }
  ]
}