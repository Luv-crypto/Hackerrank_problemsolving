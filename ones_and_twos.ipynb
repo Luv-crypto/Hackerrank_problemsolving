{
  "nbformat": 4,
  "nbformat_minor": 0,
  "metadata": {
    "colab": {
      "name": "ones_and_twos.ipynb",
      "provenance": []
    },
    "kernelspec": {
      "name": "python3",
      "display_name": "Python 3"
    },
    "language_info": {
      "name": "python"
    }
  },
  "cells": [
    {
      "cell_type": "markdown",
      "metadata": {
        "id": "2qMFx3xQeknO"
      },
      "source": [
        "Ones and twos"
      ]
    },
    {
      "cell_type": "code",
      "metadata": {
        "id": "MIhnKXgIfNjz"
      },
      "source": [
        "import os\n",
        "import sys\n",
        "\n",
        "#\n",
        "# Complete the timeConversion function below.\n",
        "#\n",
        "def timeConversion(s):\n",
        "    #\n",
        "    # Write your code here.\n",
        "    if s[-2:] == \"AM\" and s[:2] == \"12\":\n",
        "        return \"00\" + s[2:-2]\n",
        "    elif s[-2:] == \"AM\":\n",
        "        return s[:-2]\n",
        "\n",
        "    elif s[-2:] == \"PM\" and s[:2] == \"12\":\n",
        "        return s[:-2]\n",
        "    else:\n",
        "        return str(int(s[:2]) + 12) + s[2:8]\n",
        "\n",
        "\n",
        "\n",
        "\n",
        "if __name__ == '__main__':\n",
        "    f = open(os.environ['OUTPUT_PATH'], 'w')\n",
        "\n",
        "    s = input()\n",
        "\n",
        "    result = timeConversion(s)\n",
        "\n",
        "    f.write(result + '\\n')\n",
        "\n",
        "    f.close()\n"
      ],
      "execution_count": null,
      "outputs": []
    },
    {
      "cell_type": "code",
      "metadata": {
        "id": "3LpUZsnPoeLx"
      },
      "source": [
        ""
      ],
      "execution_count": null,
      "outputs": []
    }
  ]
}